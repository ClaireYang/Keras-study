{
 "cells": [
  {
   "cell_type": "code",
   "execution_count": 11,
   "metadata": {
    "scrolled": true
   },
   "outputs": [
    {
     "name": "stdout",
     "output_type": "stream",
     "text": [
      "_________________________________________________________________\n",
      "Layer (type)                 Output Shape              Param #   \n",
      "=================================================================\n",
      "input_2 (InputLayer)         (None, 150, 150, 3)       0         \n",
      "_________________________________________________________________\n",
      "block1_conv1 (Conv2D)        (None, 150, 150, 64)      1792      \n",
      "_________________________________________________________________\n",
      "block1_conv2 (Conv2D)        (None, 150, 150, 64)      36928     \n",
      "_________________________________________________________________\n",
      "block1_pool (MaxPooling2D)   (None, 75, 75, 64)        0         \n",
      "_________________________________________________________________\n",
      "block2_conv1 (Conv2D)        (None, 75, 75, 128)       73856     \n",
      "_________________________________________________________________\n",
      "block2_conv2 (Conv2D)        (None, 75, 75, 128)       147584    \n",
      "_________________________________________________________________\n",
      "block2_pool (MaxPooling2D)   (None, 37, 37, 128)       0         \n",
      "_________________________________________________________________\n",
      "block3_conv1 (Conv2D)        (None, 37, 37, 256)       295168    \n",
      "_________________________________________________________________\n",
      "block3_conv2 (Conv2D)        (None, 37, 37, 256)       590080    \n",
      "_________________________________________________________________\n",
      "block3_conv3 (Conv2D)        (None, 37, 37, 256)       590080    \n",
      "_________________________________________________________________\n",
      "block3_pool (MaxPooling2D)   (None, 18, 18, 256)       0         \n",
      "_________________________________________________________________\n",
      "block4_conv1 (Conv2D)        (None, 18, 18, 512)       1180160   \n",
      "_________________________________________________________________\n",
      "block4_conv2 (Conv2D)        (None, 18, 18, 512)       2359808   \n",
      "_________________________________________________________________\n",
      "block4_conv3 (Conv2D)        (None, 18, 18, 512)       2359808   \n",
      "_________________________________________________________________\n",
      "block4_pool (MaxPooling2D)   (None, 9, 9, 512)         0         \n",
      "_________________________________________________________________\n",
      "block5_conv1 (Conv2D)        (None, 9, 9, 512)         2359808   \n",
      "_________________________________________________________________\n",
      "block5_conv2 (Conv2D)        (None, 9, 9, 512)         2359808   \n",
      "_________________________________________________________________\n",
      "block5_conv3 (Conv2D)        (None, 9, 9, 512)         2359808   \n",
      "_________________________________________________________________\n",
      "block5_pool (MaxPooling2D)   (None, 4, 4, 512)         0         \n",
      "=================================================================\n",
      "Total params: 14,714,688\n",
      "Trainable params: 14,714,688\n",
      "Non-trainable params: 0\n",
      "_________________________________________________________________\n"
     ]
    }
   ],
   "source": [
    "from keras.applications import VGG16\n",
    "\n",
    "conv_base = VGG16(weights='imagenet', include_top=False, input_shape=(150,150,3))\n",
    "\n",
    "conv_base.summary()"
   ]
  },
  {
   "cell_type": "code",
   "execution_count": 10,
   "metadata": {},
   "outputs": [
    {
     "name": "stdout",
     "output_type": "stream",
     "text": [
      "Found 2000 images belonging to 2 classes.\n",
      "Found 1000 images belonging to 2 classes.\n",
      "Found 1000 images belonging to 2 classes.\n"
     ]
    }
   ],
   "source": [
    "import os\n",
    "import numpy as np\n",
    "from keras.preprocessing.image import ImageDataGenerator\n",
    "\n",
    "base_dir = '/workspace/dataset/MyExamples/dogs-vs-cats-original/cats_and_dogs_small'\n",
    "train_dir = os.path.join(base_dir, 'train')\n",
    "validation_dir = os.path.join(base_dir, 'validation')\n",
    "test_dir = os.path.join(base_dir, 'test')\n",
    "\n",
    "datagen = ImageDataGenerator(rescale=1./255)\n",
    "batch_size =20\n",
    "\n",
    "def extract_features(directory, sample_count):\n",
    "    features = np.zeros(shape=(sample_count, 4, 4, 512))\n",
    "    labels = np.zeros(shape=(sample_count))\n",
    "    generator = datagen.flow_from_directory(directory, target_size=(150,150), batch_size=batch_size,class_mode='binary')\n",
    "    i = 0\n",
    "    for inputs_batch, labels_batch in generator:\n",
    "        features_batch = conv_base.predict(inputs_batch)\n",
    "        features[i * batch_size : (i + 1)* batch_size] = features_batch\n",
    "        labels[i * batch_size : (i + 1)* batch_size] = labels_batch\n",
    "        i += 1\n",
    "        if i * batch_size >= sample_count:\n",
    "            break\n",
    "    #print(features.shape)\n",
    "    return features, labels\n",
    "\n",
    "train_features, train_labels =extract_features(train_dir, 2000)\n",
    "validation_features, validation_labels =extract_features(validation_dir, 1000)\n",
    "test_features, test_labels =extract_features(test_dir, 1000)\n",
    "\n",
    "#print(train_features.shape)\n",
    "train_features = np.reshape(train_features, (2000, 4*4*512))\n",
    "#print(valdiation_features.shape)\n",
    "validation_features = np.reshape(validation_features, (1000, 4*4*512))\n",
    "test_features = np.reshape(test_features, (1000, 4*4*512))\n"
   ]
  },
  {
   "cell_type": "code",
   "execution_count": 14,
   "metadata": {},
   "outputs": [
    {
     "name": "stdout",
     "output_type": "stream",
     "text": [
      "WARNING:tensorflow:From /usr/local/lib/python3.5/dist-packages/tensorflow/python/ops/math_ops.py:3066: to_int32 (from tensorflow.python.ops.math_ops) is deprecated and will be removed in a future version.\n",
      "Instructions for updating:\n",
      "Use tf.cast instead.\n",
      "Train on 2000 samples, validate on 1000 samples\n",
      "Epoch 1/30\n",
      "2000/2000 [==============================] - 1s 342us/step - loss: 0.5961 - acc: 0.6705 - val_loss: 0.4543 - val_acc: 0.8170\n",
      "Epoch 2/30\n",
      "2000/2000 [==============================] - 0s 150us/step - loss: 0.4365 - acc: 0.8075 - val_loss: 0.3756 - val_acc: 0.8550\n",
      "Epoch 3/30\n",
      "2000/2000 [==============================] - 0s 155us/step - loss: 0.3567 - acc: 0.8585 - val_loss: 0.3334 - val_acc: 0.8680\n",
      "Epoch 4/30\n",
      "2000/2000 [==============================] - 0s 169us/step - loss: 0.3205 - acc: 0.8730 - val_loss: 0.3056 - val_acc: 0.8790\n",
      "Epoch 5/30\n",
      "2000/2000 [==============================] - 0s 152us/step - loss: 0.2876 - acc: 0.8805 - val_loss: 0.2933 - val_acc: 0.8820\n",
      "Epoch 6/30\n",
      "2000/2000 [==============================] - 0s 172us/step - loss: 0.2642 - acc: 0.8975 - val_loss: 0.2765 - val_acc: 0.8940\n",
      "Epoch 7/30\n",
      "2000/2000 [==============================] - 0s 182us/step - loss: 0.2494 - acc: 0.9030 - val_loss: 0.2678 - val_acc: 0.8980\n",
      "Epoch 8/30\n",
      "2000/2000 [==============================] - 0s 181us/step - loss: 0.2312 - acc: 0.9110 - val_loss: 0.2607 - val_acc: 0.9020\n",
      "Epoch 9/30\n",
      "2000/2000 [==============================] - 0s 155us/step - loss: 0.2318 - acc: 0.9140 - val_loss: 0.2558 - val_acc: 0.9030\n",
      "Epoch 10/30\n",
      "2000/2000 [==============================] - 0s 149us/step - loss: 0.2172 - acc: 0.9180 - val_loss: 0.2542 - val_acc: 0.9000\n",
      "Epoch 11/30\n",
      "2000/2000 [==============================] - 0s 148us/step - loss: 0.2020 - acc: 0.9250 - val_loss: 0.2500 - val_acc: 0.9010\n",
      "Epoch 12/30\n",
      "2000/2000 [==============================] - 0s 164us/step - loss: 0.1851 - acc: 0.9350 - val_loss: 0.2459 - val_acc: 0.9030\n",
      "Epoch 13/30\n",
      "2000/2000 [==============================] - 0s 149us/step - loss: 0.1863 - acc: 0.9265 - val_loss: 0.2435 - val_acc: 0.9030\n",
      "Epoch 14/30\n",
      "2000/2000 [==============================] - 0s 169us/step - loss: 0.1717 - acc: 0.9365 - val_loss: 0.2430 - val_acc: 0.9050\n",
      "Epoch 15/30\n",
      "2000/2000 [==============================] - 0s 155us/step - loss: 0.1723 - acc: 0.9440 - val_loss: 0.2424 - val_acc: 0.9020\n",
      "Epoch 16/30\n",
      "2000/2000 [==============================] - 0s 151us/step - loss: 0.1651 - acc: 0.9360 - val_loss: 0.2585 - val_acc: 0.8930\n",
      "Epoch 17/30\n",
      "2000/2000 [==============================] - 0s 155us/step - loss: 0.1569 - acc: 0.9450 - val_loss: 0.2432 - val_acc: 0.9020\n",
      "Epoch 18/30\n",
      "2000/2000 [==============================] - 0s 169us/step - loss: 0.1490 - acc: 0.9460 - val_loss: 0.2375 - val_acc: 0.9040\n",
      "Epoch 19/30\n",
      "2000/2000 [==============================] - 0s 159us/step - loss: 0.1375 - acc: 0.9555 - val_loss: 0.2383 - val_acc: 0.9000\n",
      "Epoch 20/30\n",
      "2000/2000 [==============================] - 0s 154us/step - loss: 0.1435 - acc: 0.9485 - val_loss: 0.2374 - val_acc: 0.9030\n",
      "Epoch 21/30\n",
      "2000/2000 [==============================] - 0s 170us/step - loss: 0.1319 - acc: 0.9545 - val_loss: 0.2390 - val_acc: 0.9020\n",
      "Epoch 22/30\n",
      "2000/2000 [==============================] - 0s 161us/step - loss: 0.1241 - acc: 0.9625 - val_loss: 0.2478 - val_acc: 0.8960\n",
      "Epoch 23/30\n",
      "2000/2000 [==============================] - 0s 155us/step - loss: 0.1190 - acc: 0.9605 - val_loss: 0.2385 - val_acc: 0.9020\n",
      "Epoch 24/30\n",
      "2000/2000 [==============================] - 0s 154us/step - loss: 0.1191 - acc: 0.9610 - val_loss: 0.2400 - val_acc: 0.9010\n",
      "Epoch 25/30\n",
      "2000/2000 [==============================] - 0s 156us/step - loss: 0.1088 - acc: 0.9640 - val_loss: 0.2425 - val_acc: 0.8980\n",
      "Epoch 26/30\n",
      "2000/2000 [==============================] - 0s 168us/step - loss: 0.1115 - acc: 0.9635 - val_loss: 0.2403 - val_acc: 0.9000\n",
      "Epoch 27/30\n",
      "2000/2000 [==============================] - 0s 167us/step - loss: 0.1060 - acc: 0.9635 - val_loss: 0.2443 - val_acc: 0.8990\n",
      "Epoch 28/30\n",
      "2000/2000 [==============================] - 0s 162us/step - loss: 0.0944 - acc: 0.9700 - val_loss: 0.2469 - val_acc: 0.9010\n",
      "Epoch 29/30\n",
      "2000/2000 [==============================] - 0s 170us/step - loss: 0.0957 - acc: 0.9695 - val_loss: 0.2431 - val_acc: 0.9010\n",
      "Epoch 30/30\n",
      "2000/2000 [==============================] - 0s 158us/step - loss: 0.0921 - acc: 0.9705 - val_loss: 0.2445 - val_acc: 0.9020\n"
     ]
    }
   ],
   "source": [
    "from keras import models\n",
    "from keras import layers\n",
    "from keras import optimizers\n",
    "\n",
    "model = models.Sequential()\n",
    "model.add(layers.Dense(256, activation='relu', input_dim=4*4*512))\n",
    "model.add(layers.Dropout(0.5))\n",
    "model.add(layers.Dense(1, activation='sigmoid'))\n",
    "\n",
    "model.compile(optimizer=optimizers.RMSprop(lr=2e-5), loss='binary_crossentropy', metrics=['acc'])\n",
    "\n",
    "history = model.fit(train_features, train_labels, epochs=30, batch_size=20,\n",
    "                   validation_data=(validation_features, validation_labels))"
   ]
  },
  {
   "cell_type": "code",
   "execution_count": 15,
   "metadata": {},
   "outputs": [
    {
     "data": {
      "image/png": "[encoded data removed]",
      "text/plain": [
       "<Figure size 432x288 with 1 Axes>"
      ]
     },
     "metadata": {
      "needs_background": "light"
     },
     "output_type": "display_data"
    },
    {
     "data": {
      "image/png": "[encoded data removed]",
      "text/plain": [
       "<Figure size 432x288 with 1 Axes>"
      ]
     },
     "metadata": {
      "needs_background": "light"
     },
     "output_type": "display_data"
    }
   ],
   "source": [
    "%matplotlib inline\n",
    "import matplotlib.pyplot as plt\n",
    "\n",
    "acc = history.history['acc']\n",
    "val_acc = history.history['val_acc']\n",
    "loss = history.history['loss']\n",
    "val_loss = history.history['val_loss']\n",
    "\n",
    "epochs = range(1, len(acc) + 1)\n",
    "\n",
    "plt.plot(epochs, acc, 'bo', label='Training acc')\n",
    "plt.plot(epochs, val_acc, 'b', label='Validation acc')\n",
    "plt.title('Training and validation accuracy')\n",
    "plt.legend()\n",
    "\n",
    "plt.figure()\n",
    "\n",
    "plt.plot(epochs, loss, 'bo', label='Training loss')\n",
    "plt.plot(epochs, val_loss, 'b', label='Validation loss')\n",
    "plt.title('Training and validation loss')\n",
    "plt.legend()\n",
    "\n",
    "plt.show()"
   ]
  },
  {
   "cell_type": "code",
   "execution_count": null,
   "metadata": {},
   "outputs": [],
   "source": []
  }
 ],
 "metadata": {
  "kernelspec": {
   "display_name": "Python 3",
   "language": "python",
   "name": "python3"
  },
  "language_info": {
   "codemirror_mode": {
    "name": "ipython",
    "version": 3
   },
   "file_extension": ".py",
   "mimetype": "text/x-python",
   "name": "python",
   "nbconvert_exporter": "python",
   "pygments_lexer": "ipython3",
   "version": "3.5.2"
  }
 },
 "nbformat": 4,
 "nbformat_minor": 2
}
